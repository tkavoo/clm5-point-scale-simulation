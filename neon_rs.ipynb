{
 "cells": [
  {
   "cell_type": "markdown",
   "id": "38b4832f-0acf-4a44-ab89-904eb052589b",
   "metadata": {},
   "source": [
    "## Modifying parameters in clm-5 and performing a point-scale experiment at TALL-NEON site\n",
    "### Introduction \n",
    "We shall modify the Vcmax parameter in CLM5. You can refer to the CLM5 documentantion for more details and information about the vcmax parameter.\n",
    "\n",
    "We shall determine the Vcmax parameter value used for the default run and then create two parameter files where we shall modify the default value of the vcmax parameter to its minimum value and maximum values according to literature.\n",
    "We shall then, perform a simple experiemnt to determine the impacts of the modified parameter on GPP and latent heat flux simulated at TALL sites.\n",
    "\n",
    "### Getting started\n",
    "\n",
    "The first step is to copy-paste the original parameter file located here \"~/inputdata/lnd/clm2/paramdata/ctsm51_params.c211112.nc\". The following code will create two new parameter files which we will edit to modify the given parameter vcmax.\n",
    "\n",
    "##### Note the %%bash on the beginning of the cell below, this tells jupyter to use bash syntax."
   ]
  },
  {
   "cell_type": "code",
   "execution_count": null,
   "id": "45d190fc-28a9-46a6-ad7d-7b12f88c82d8",
   "metadata": {},
   "outputs": [],
   "source": [
    "%%bash\n",
    "cp /home/user/inputdata/lnd/clm2/paramdata/ctsm51_params.c211112.nc /home/user/inputdata/lnd/clm2/paramdata/ctsm51_params.c211112_vcmax_min.nc\n",
    "cp /home/user/inputdata/lnd/clm2/paramdata/ctsm51_params.c211112.nc /home/user/inputdata/lnd/clm2/paramdata/ctsm51_params.c211112_vcmax_max.nc"
   ]
  },
  {
   "cell_type": "markdown",
   "id": "24b5c73a-f1bd-4584-bf85-b629f959b973",
   "metadata": {},
   "source": [
    "## Loading the parameter files\n",
    "Here we load all the three parameter files and prepare them for editing. Here we are going to change the parameter vcmaxha. The following cell loads the three parameter file. The default, and the created new files."
   ]
  },
  {
   "cell_type": "code",
   "execution_count": null,
   "id": "b52ddadd-e355-4484-ad48-3033e83f50cb",
   "metadata": {},
   "outputs": [],
   "source": [
    "import netCDF4 as nc\n",
    "#To help us remember what file we are working with, we shall name the imported datasets \n",
    "#based on what each file means. Since we are changing the vmax parameter to its minimum\n",
    "#and maximum values, naming the files this will help us understand what file we are working with\n",
    "default = '/home/user/inputdata/lnd/clm2/paramdata/ctsm51_params.c211112.nc'\n",
    "vmax_min = '/home/user/inputdata/lnd/clm2/paramdata/ctsm51_params.c211112_vcmax_min.nc'\n",
    "vmax_max = '/home/user/inputdata/lnd/clm2/paramdata/ctsm51_params.c211112_vcmax_max.nc'\n",
    "\n",
    "#Preparing them for editing\n",
    "\n",
    "default = nc.Dataset(default, 'r+')\n",
    "vmax_min = nc.Dataset(vmax_min, 'r+')\n",
    "vmax_max = nc.Dataset(vmax_max, 'r+')"
   ]
  },
  {
   "cell_type": "code",
   "execution_count": null,
   "id": "877a94a4-226e-4913-a231-296fa93efad0",
   "metadata": {},
   "outputs": [],
   "source": [
    "#To see all the available variables in our created parameter files, we can use the following command.\n",
    "default.variables"
   ]
  },
  {
   "cell_type": "code",
   "execution_count": null,
   "id": "d618ca55-34e6-4dbe-9c6e-e50fd5e9584b",
   "metadata": {},
   "outputs": [],
   "source": [
    "#Now we need to see the default value for the parameter vcmax. In the model, the vmaxha is the parameter associated\n",
    "#with the activation energy and it is what we are interested in for this assignment. The following code returns the \n",
    "#default parameter value for the vcmaxha\n",
    "default.variables['vcmaxha'][:]"
   ]
  },
  {
   "cell_type": "markdown",
   "id": "e341f1f9-b538-4444-ae8d-c1d9502a6515",
   "metadata": {},
   "source": [
    "## Changing the vmaxha value to its maximum and minimum values\n",
    "According to existing literature, the minimum vmaxha value is 45000 and its maximum value is 173000. The following code will edit the vmax_min and vmax_max files to input the minimum and maximum vmaxha values to each file respectively."
   ]
  },
  {
   "cell_type": "code",
   "execution_count": null,
   "id": "39dd781f-0383-42c6-9f65-908c54b1448a",
   "metadata": {},
   "outputs": [],
   "source": [
    "vmax_min.variables['vcmaxha'][:]=45000\n",
    "vmax_max.variables['vcmaxha'][:]=173000\n",
    "\n",
    "#To check if the new values were added, you can use the following code\n",
    "vmax_min.variables['vcmaxha'][:],vmax_max.variables['vcmaxha'][:]"
   ]
  },
  {
   "cell_type": "code",
   "execution_count": null,
   "id": "21294107-fa89-4f0f-9f33-75ce7862fe9e",
   "metadata": {},
   "outputs": [],
   "source": [
    "#close editing for all the three datasets\n",
    "vmax_min.close()\n",
    "vmax_max.close()"
   ]
  },
  {
   "cell_type": "markdown",
   "id": "5e12db00-0702-4b98-9381-bae9eb072834",
   "metadata": {},
   "source": [
    "## Creating two new cases and adding the modified parameter files and running them for 36 months"
   ]
  },
  {
   "cell_type": "code",
   "execution_count": null,
   "id": "45449ef5-eaa2-4036-887c-d1def143403e",
   "metadata": {},
   "outputs": [],
   "source": [
    "%%bash\n",
    "cd /opt/ncar/cesm/cime/scripts/\n",
    "#Creates the first case for the vcmax_min modified minimum parameter\n",
    "./create_newcase --case /home/user/TALLvcmax_min --compset I1PtClm51Bgc --res CLM_USRDAT --driver nuopc --user-mods-dir NEON/TALL\n",
    "\n",
    "#Creates the second case for the vcmax_max modified maximum parameter\n",
    "./create_newcase --case /home/user/TALLvcmax_max --compset I1PtClm51Bgc --res CLM_USRDAT --driver nuopc --user-mods-dir NEON/TALL"
   ]
  },
  {
   "cell_type": "markdown",
   "id": "9a2e743e-ceb7-40ed-98ac-06715ff4b90a",
   "metadata": {},
   "source": [
    "## Making modifiactions to the new cases and submitting the runs\n",
    "This is going to take a while to finish. Depending with the power of your pc. This same procedure can be applied both using docker or using the super compute but make sure you modify the file paths accordingly"
   ]
  },
  {
   "cell_type": "code",
   "execution_count": null,
   "id": "9cdce6c9-ec42-4976-9282-5ae654686617",
   "metadata": {},
   "outputs": [],
   "source": [
    "%%bash\n",
    "cd /home/user/TALLvcmax_min/\n",
    "# Appending the new parameter file to the user_nl_clm\n",
    "pfile=\"/home/user/inputdata/lnd/clm2/paramdata/ctsm51_params.c211112_vcmax_min.nc\"\n",
    "pfilestr=\"paramfile = '\"$pfile\"'\"\n",
    "echo -e \"\\n\"$pfilestr >> user_nl_clm\n",
    "# Now we need to make some modifications to our case before submitting\n",
    "./xmlchange RUN_STARTDATE=2018-01-01\n",
    "./xmlchange STOP_N=36\n",
    "./xmlchange STOP_OPTION=nmonths\n",
    "\n",
    "# we repeat the same procedure for the vcmax modified parameter file.\n",
    "cd /home/user/TALLvcmax_max/\n",
    "# Appending the new parameter file to the user_nl_clm\n",
    "pfile=\"/home/user/inputdata/lnd/clm2/paramdata/ctsm51_params.c211112_vcmax_max.nc\"\n",
    "pfilestr=\"paramfile = '\"$pfile\"'\"\n",
    "echo -e \"\\n\"$pfilestr >> user_nl_clm\n",
    "# Now we need to make some modifications to our case before submitting\n",
    "./xmlchange RUN_STARTDATE=2018-01-01\n",
    "./xmlchange STOP_N=36\n",
    "./xmlchange STOP_OPTION=nmonths"
   ]
  },
  {
   "cell_type": "code",
   "execution_count": null,
   "id": "941f0946-47a1-44aa-a41b-14486548cd7d",
   "metadata": {},
   "outputs": [],
   "source": [
    "%%bash\n",
    "# Prepares the case, build and submit for vcmax_min case\n",
    "cd /home/user/TALLvcmax_min/\n",
    "./case.setup\n",
    "#./case.build --clean\n",
    "./case.build\n",
    "./case.submit"
   ]
  },
  {
   "cell_type": "code",
   "execution_count": null,
   "id": "87727848-f524-4287-a585-3f1c4fad6a8c",
   "metadata": {},
   "outputs": [],
   "source": [
    "%%bash\n",
    "# we repeat the same procedure for the vcmax modified parameter file.\n",
    "cd /home/user/TALLvcmax_max/\n",
    "./case.setup\n",
    "#./case.build --clean\n",
    "./case.build\n",
    "./case.submit"
   ]
  },
  {
   "cell_type": "markdown",
   "id": "ee046716-f2f1-4728-a42f-d7bd4ac18de1",
   "metadata": {},
   "source": [
    "## You have successfully finished creating and running the jobs.\n",
    "You can use the visualization notebook to analyze your results"
   ]
  },
  {
   "cell_type": "code",
   "execution_count": null,
   "id": "339e75a4-8d81-40ab-991d-63cdf3bb77da",
   "metadata": {},
   "outputs": [],
   "source": []
  }
 ],
 "metadata": {
  "kernelspec": {
   "display_name": "Python [conda env:root] *",
   "language": "python",
   "name": "conda-root-py"
  },
  "language_info": {
   "codemirror_mode": {
    "name": "ipython",
    "version": 3
   },
   "file_extension": ".py",
   "mimetype": "text/x-python",
   "name": "python",
   "nbconvert_exporter": "python",
   "pygments_lexer": "ipython3",
   "version": "3.10.6"
  }
 },
 "nbformat": 4,
 "nbformat_minor": 5
}
